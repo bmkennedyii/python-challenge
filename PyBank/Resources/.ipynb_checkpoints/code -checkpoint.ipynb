{
 "cells": [
  {
   "cell_type": "code",
   "execution_count": 1,
   "metadata": {},
   "outputs": [],
   "source": [
    "#* Your task is to create a Python script that analyzes the records to calculate each of the following:\n",
    "# * The total number of months included in the dataset\n",
    "# * The net total amount of \"Profit/Losses\" over the entire period\n",
    "# * The average of the changes in \"Profit/Losses\" over the entire period\n",
    "# * The greatest increase in profits (date and amount) over the entire period\n",
    "# * The greatest decrease in losses (date and amount) over the entire period"
   ]
  },
  {
   "cell_type": "code",
   "execution_count": 130,
   "metadata": {},
   "outputs": [],
   "source": [
    "#Import OS and CSV \n",
    "import os \n",
    "import csv "
   ]
  },
  {
   "cell_type": "code",
   "execution_count": 131,
   "metadata": {},
   "outputs": [],
   "source": [
    "#Define my variables as empty \"bucket\" lists\n",
    "\n",
    "total_months = []\n",
    "profit_loss_changes = []"
   ]
  },
  {
   "cell_type": "code",
   "execution_count": 132,
   "metadata": {},
   "outputs": [],
   "source": [
    "#set my counters to zero \n",
    "months_count = 0 \n",
    "profit_loss = 0 \n",
    "previous_month_profit_loss = 0 \n",
    "current_month_profit_loss = 0\n",
    "profit_loss_change = 0 "
   ]
  },
  {
   "cell_type": "code",
   "execution_count": 133,
   "metadata": {},
   "outputs": [],
   "source": [
    "# Retreive data from resource folder \n",
    "budget_data_csv = os.path.join(\"..\",'Resources', \"budget_data.csv\")"
   ]
  },
  {
   "cell_type": "code",
   "execution_count": 134,
   "metadata": {},
   "outputs": [],
   "source": [
    "#Read the CSV and count months \n",
    "with open(budget_data_csv) as csvfile:\n",
    "    csvreader = csv.reader(csvfile, delimiter=',') \n",
    "    firstline = csvfile.readline()\n",
    "    for row in csvfile:\n",
    "        count_months += 1 \n",
    "         # total amount of P/L\n",
    "        current_month_profit_loss = int(row[1])\n",
    "        net_profit_loss += current_month_profit_loss\n",
    "\n",
    "        if (months_count == 1):\n",
    "            # Make the value of previous month to be equal to current month\n",
    "            previous_month_profit_loss = current_month_profit_loss\n",
    "            continue\n",
    "        else:\n",
    "\n",
    "            # Find out the change in profit \n",
    "            profit_loss_change = current_month_profit_loss - previous_month_profit_loss\n",
    "\n",
    "            # Add each month to the month list \n",
    "            total_months.append(row[0])\n",
    "\n",
    "            # Add each profit_loss_change to the profit_loss_changes list\n",
    "            profit_loss_changes.append(profit_loss_change)\n",
    "\n",
    "            # Make the current_month_loss to be previous_month_profit_loss for the next loop\n",
    "            previous_month_profit_loss = current_month_profit_loss\n",
    "            \n",
    "    #sum and average of the changes in \"Profit/Losses\" over the entire period\n",
    "    sum_profit_loss = sum(profit_loss_changes)\n",
    "    average_profit_loss = round(sum_profit_loss/(months_count - 1), 2)\n",
    "\n",
    "    # highest and lowest changes in \"Profit/Losses\" over the entire period\n",
    "    highest_change = max([profit_loss_changes])\n",
    "    lowest_change = min([profit_loss_changes])\n",
    "\n",
    "    # Locate the index value of highest and lowest changes in \"Profit/Losses\" over the entire period\n",
    "    highest_month_index = [profit_loss_changes].index(highest_change)\n",
    "    lowest_month_index = [profit_loss_changes].index(lowest_change)\n",
    "\n",
    "    # Assign best and worst month\n",
    "    best_month = [highest_month_index]\n",
    "    worst_month = [lowest_month_index]"
   ]
  },
  {
   "cell_type": "code",
   "execution_count": 135,
   "metadata": {},
   "outputs": [
    {
     "name": "stdout",
     "output_type": "stream",
     "text": [
      "Financial Analysis\n",
      "----------------------------\n",
      "Total Months:  0\n",
      "Total:  $0\n",
      "Average Change:  $-0.0\n",
      "Greatest Increase in Profits:  [0] ($[])\n",
      "Greatest Decrease in Losses:  [0] ($[])\n"
     ]
    }
   ],
   "source": [
    "print(\"Financial Analysis\")\n",
    "print(\"----------------------------\")\n",
    "print(f\"Total Months:  {months_count}\")\n",
    "print(f\"Total:  ${profit_loss}\")\n",
    "print(f\"Average Change:  ${average_profit_loss}\")\n",
    "print(f\"Greatest Increase in Profits:  {best_month} (${highest_change})\")\n",
    "print(f\"Greatest Decrease in Losses:  {worst_month} (${lowest_change})\")"
   ]
  },
  {
   "cell_type": "code",
   "execution_count": null,
   "metadata": {},
   "outputs": [],
   "source": []
  }
 ],
 "metadata": {
  "kernelspec": {
   "display_name": "Python 3",
   "language": "python",
   "name": "python3"
  },
  "language_info": {
   "codemirror_mode": {
    "name": "ipython",
    "version": 3
   },
   "file_extension": ".py",
   "mimetype": "text/x-python",
   "name": "python",
   "nbconvert_exporter": "python",
   "pygments_lexer": "ipython3",
   "version": "3.7.6"
  }
 },
 "nbformat": 4,
 "nbformat_minor": 2
}
